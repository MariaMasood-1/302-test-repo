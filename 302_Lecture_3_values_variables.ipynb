{
  "nbformat": 4,
  "nbformat_minor": 0,
  "metadata": {
    "colab": {
      "name": "302_Lecture_3_values_variables.ipynb",
      "provenance": [],
      "collapsed_sections": [
        "_FlzDkgHB9BM",
        "zsMVsagGhuOw"
      ],
      "include_colab_link": true
    },
    "kernelspec": {
      "name": "python3",
      "display_name": "Python 3"
    }
  },
  "cells": [
    {
      "cell_type": "markdown",
      "metadata": {
        "id": "view-in-github",
        "colab_type": "text"
      },
      "source": [
        "<a href=\"https://colab.research.google.com/github/MariaMasood-1/302-test-repo/blob/main/302_Lecture_3_values_variables.ipynb\" target=\"_parent\"><img src=\"https://colab.research.google.com/assets/colab-badge.svg\" alt=\"Open In Colab\"/></a>"
      ]
    },
    {
      "cell_type": "markdown",
      "metadata": {
        "id": "KwYvmJqb_kUl"
      },
      "source": [
        "# **Values & Variables**\n",
        "**What is a value?** The basic thing a program works with… letters, numbers, ‘hello world’. Values have different types. Integers (numbers), “floats” (decimals), and strings\n",
        "\n",
        "**What is a variable?** A name that refers to a value. In `n = 17`, “n” is the variable. \n",
        " \n",
        "**What is an operator?** Symbols that represent computation like `+` or `*`. \n",
        "\n",
        "**What is an expression?** A combination of values, variables, and operators. \n",
        "\n",
        "**What is a statement?** A unit of code that a Python interpreter can execute. E.g. in `print(\"Hello World!\")` \"print\" is the Statement and in `my_salary = 250` it is \"my_salary\". \n",
        "\n",
        "**What is an operator?** Symbols that represent computation like `+` or `*`. "
      ]
    },
    {
      "cell_type": "code",
      "metadata": {
        "id": "_PGNwtW9W4KJ"
      },
      "source": [
        "print(\"Hello world!\")"
      ],
      "execution_count": null,
      "outputs": []
    },
    {
      "cell_type": "code",
      "metadata": {
        "id": "1LA4y8DwFg1z"
      },
      "source": [
        "text = \"Hello World!\""
      ],
      "execution_count": null,
      "outputs": []
    },
    {
      "cell_type": "code",
      "metadata": {
        "id": "zvw2Xy2BFryr"
      },
      "source": [
        "print(text)"
      ],
      "execution_count": null,
      "outputs": []
    },
    {
      "cell_type": "markdown",
      "metadata": {
        "id": "SxZn1e8gA2vA"
      },
      "source": [
        "## Exercise\n",
        "1. Assign variables with values\n",
        "2. Check the values of variables\n",
        "3. Check the data type of variables\n",
        "\n",
        "Assign the variables with the following values.\n"
      ]
    },
    {
      "cell_type": "code",
      "metadata": {
        "id": "HZZLmQ-U_c_a"
      },
      "source": [
        "# Here I am assigning the variables\n",
        "message = \"374\"\n",
        "n = 374\n",
        "pi = 3.14159"
      ],
      "execution_count": null,
      "outputs": []
    },
    {
      "cell_type": "markdown",
      "metadata": {
        "id": "HAGdFmVEBmUK"
      },
      "source": [
        "Run the code: what happens? \n",
        "Why? \n"
      ]
    },
    {
      "cell_type": "markdown",
      "metadata": {
        "id": "_FlzDkgHB9BM"
      },
      "source": [
        "## Answer\n"
      ]
    },
    {
      "cell_type": "markdown",
      "metadata": {
        "id": "vF7yKud5Bwcr"
      },
      "source": [
        "We've assigned variables with values, but we haven't done anything with them. We can use the `print` statement to display them. "
      ]
    },
    {
      "cell_type": "code",
      "metadata": {
        "id": "BP9rowlKBbrQ"
      },
      "source": [
        "print(message)\n",
        "print(n)\n",
        "print(pi)"
      ],
      "execution_count": null,
      "outputs": []
    },
    {
      "cell_type": "markdown",
      "metadata": {
        "id": "vyGWMkDieyLZ"
      },
      "source": [
        "In a Jupyter notebook environment, you can also just \"run\" the variables in a cell, like so: "
      ]
    },
    {
      "cell_type": "code",
      "metadata": {
        "id": "gT_4jsFVe3hU"
      },
      "source": [
        "message # you can also run n or pi"
      ],
      "execution_count": null,
      "outputs": []
    },
    {
      "cell_type": "markdown",
      "metadata": {
        "id": "S8BGTBsMCKdG"
      },
      "source": [
        "Next we can check the data types for each of our varaibles. This is important when managing data: you need to know what data types you are working with. "
      ]
    },
    {
      "cell_type": "code",
      "metadata": {
        "id": "VZsLHhtSB17l"
      },
      "source": [
        "type(message)"
      ],
      "execution_count": null,
      "outputs": []
    },
    {
      "cell_type": "code",
      "metadata": {
        "id": "V4M2R_mvCeLq"
      },
      "source": [
        "type(n)"
      ],
      "execution_count": null,
      "outputs": []
    },
    {
      "cell_type": "code",
      "metadata": {
        "id": "hNB5XLFECi-C"
      },
      "source": [
        "type(pi)"
      ],
      "execution_count": null,
      "outputs": []
    },
    {
      "cell_type": "markdown",
      "metadata": {
        "id": "nAJRzZzUC2pn"
      },
      "source": [
        "# **Good Variable Syntax**"
      ]
    },
    {
      "cell_type": "markdown",
      "metadata": {
        "id": "mWNGnYJsDChm"
      },
      "source": [
        "1.   Make it meaningful! Document what the variable is used for.\n",
        "2.   Must be “legal”: cannot use reserved words such as `print`. These are keywords that already have a meaning in Python and can't be reused. [Here are some other keywords](https://docs.python.org/3/reference/lexical_analysis.html#keywords)\n",
        "\n",
        "Follow Python best practices for identifiers: \n",
        "*   Variable names are **CaSE SenSiTIVe!** \n",
        "*   Generaly formatted by starting with a letter A to Z (upper or lower case), an underscore (_) followed by zero or more letters, then underscores and digits (0 to 9)\n",
        "\n",
        "Are these good or bad examples? \n",
        "* `Ru87ChUppaChups90543 = 3.14`\n",
        "* `area_plowed = 17.5`\n",
        "* `distance_traveled_miles = 4`\n",
        "\n",
        "In practice, that last one might be better shortened to `dist_mi` or something similar since, at some point, you don't want to be writing whole sentences! Here are some [additional pointers on writing good Python variables](https://realpython.com/python-pep8/#naming-conventions).\n"
      ]
    },
    {
      "cell_type": "markdown",
      "metadata": {
        "id": "-082jw5yEoeF"
      },
      "source": [
        "# **Operators & Strings**"
      ]
    },
    {
      "cell_type": "markdown",
      "metadata": {
        "id": "ojn42sK7E1iY"
      },
      "source": [
        "**What's a string?** \n",
        "\n",
        "How does the `+` operator work with strings?\n",
        "A: It concatenates. "
      ]
    },
    {
      "cell_type": "code",
      "metadata": {
        "id": "yT4Y7e3mKWsF"
      },
      "source": [
        "n = \"4\" + \"2\"\n",
        "print(n)"
      ],
      "execution_count": null,
      "outputs": []
    },
    {
      "cell_type": "code",
      "metadata": {
        "id": "1DLJfwX7C8rE"
      },
      "source": [
        "folder = \"d:/data/ma/\"\n",
        "file_1 = \"roads.shp\"\n",
        "road_layer = folder + file_1\n",
        "print(road_layer)"
      ],
      "execution_count": null,
      "outputs": []
    },
    {
      "cell_type": "markdown",
      "metadata": {
        "id": "LC8AnQFgGBaR"
      },
      "source": [
        "How does the `*` operator work with strings?\n",
        "A: It repeats. "
      ]
    },
    {
      "cell_type": "code",
      "metadata": {
        "id": "YpbncT1ZFvKt"
      },
      "source": [
        "my_string = \"pointdata\"\n",
        "print(my_string*3)"
      ],
      "execution_count": null,
      "outputs": []
    },
    {
      "cell_type": "markdown",
      "metadata": {
        "id": "DgBq9MgyGSlb"
      },
      "source": [
        "# **Order of Operations**\n",
        "\n",
        "Remember \"PEDMAS\"\n",
        "\n",
        "Parentheses have the highest precedence. "
      ]
    },
    {
      "cell_type": "code",
      "metadata": {
        "id": "BQrRKlZ6GL5a"
      },
      "source": [
        "2 * (3-1) "
      ],
      "execution_count": null,
      "outputs": []
    },
    {
      "cell_type": "code",
      "metadata": {
        "id": "Pv8nJRGSGvSJ"
      },
      "source": [
        "(1+1)*(5-2)"
      ],
      "execution_count": null,
      "outputs": []
    },
    {
      "cell_type": "markdown",
      "metadata": {
        "id": "uZ9w4vcvHD2m"
      },
      "source": [
        "Exponentiation has the next highest precedence. "
      ]
    },
    {
      "cell_type": "code",
      "metadata": {
        "id": "jmj8ygvKGw2g"
      },
      "source": [
        "2**1+1"
      ],
      "execution_count": null,
      "outputs": []
    },
    {
      "cell_type": "code",
      "metadata": {
        "id": "t7sZHodmHPGQ"
      },
      "source": [
        "3*1**3"
      ],
      "execution_count": null,
      "outputs": []
    },
    {
      "cell_type": "markdown",
      "metadata": {
        "id": "mk56C0KAHZ_c"
      },
      "source": [
        "Division and multiplication have the same precedence (higher than addition and subtraction).\n",
        "\n",
        "What happens when you have two operators with the same precedence? \n",
        "\n",
        "A: Python works from left to right. "
      ]
    },
    {
      "cell_type": "markdown",
      "metadata": {
        "id": "5eBgrlkjHrT_"
      },
      "source": [
        "# **Backslash `(\\)`**\n",
        "`\\` is used to start character sequences which have to be interpreted differently than if the same characters were presented on their own. Examples include: \n",
        "* `\\n` puts things on a new line and \n",
        "* `\\t` creates a tab. \n",
        "\n",
        "This will become important in labs when you need the output of your code to be formatted in a particular way. \n",
        "\n",
        "For Example try the following code and see how `n` is treated differently in each. "
      ]
    },
    {
      "cell_type": "code",
      "metadata": {
        "id": "Ta14gBBtHixn"
      },
      "source": [
        "n = 42\n",
        "print(n)"
      ],
      "execution_count": null,
      "outputs": []
    },
    {
      "cell_type": "code",
      "metadata": {
        "id": "PGEHbd3oIa5H"
      },
      "source": [
        "print(\"First line \\n Second line\")"
      ],
      "execution_count": null,
      "outputs": []
    },
    {
      "cell_type": "markdown",
      "metadata": {
        "id": "rn_2iuzmIoJ1"
      },
      "source": [
        "Double backslash `\\\\` are used when you actually want to show slashes! For example, in filenames: "
      ]
    },
    {
      "cell_type": "code",
      "metadata": {
        "id": "r4_JpPZcIgP3"
      },
      "source": [
        "file_2='d:\\data\\Tanzania\\new_villages.shp'\n",
        "print(file_2)"
      ],
      "execution_count": null,
      "outputs": []
    },
    {
      "cell_type": "markdown",
      "metadata": {
        "id": "RX54zaYeI36H"
      },
      "source": [
        "What happened and how would you fix it? "
      ]
    },
    {
      "cell_type": "markdown",
      "metadata": {
        "id": "zsMVsagGhuOw"
      },
      "source": [
        "## Answer"
      ]
    },
    {
      "cell_type": "code",
      "metadata": {
        "id": "Bg5184ElI103"
      },
      "source": [
        "file_2='d:\\\\data\\\\Tanzania\\\\new_villages.shp'\n",
        "print(file_2)"
      ],
      "execution_count": null,
      "outputs": []
    },
    {
      "cell_type": "markdown",
      "metadata": {
        "id": "0DsjhGEmJRdg"
      },
      "source": [
        "`\\` is also important for preserving quotations. We use quotes to signify strings (e.g. `42` versus `\"42\"`) but if you want to keep quotes within quotes... you'll need to use double backslash. Run the code below to see what happens. \n"
      ]
    },
    {
      "cell_type": "code",
      "metadata": {
        "id": "TgP05WWFJ1uC"
      },
      "source": [
        "str1 = \"Have you read \"Things Fall Apart\"?\"\n",
        "print(str1)"
      ],
      "execution_count": null,
      "outputs": []
    },
    {
      "cell_type": "code",
      "metadata": {
        "id": "7yNjTb6ZJ41p"
      },
      "source": [
        "str2 = \"Have you read \\\"Things Fall Apart\\\"?\"\n",
        "print(str2)"
      ],
      "execution_count": null,
      "outputs": []
    },
    {
      "cell_type": "markdown",
      "metadata": {
        "id": "1MvzyDHXKdGy"
      },
      "source": [
        "# **Exercise**\n",
        "\n",
        "Create and run a `.py` (Python) script to calculate the area and perimeter of a circle. \n",
        "1. Type code in a new Python Script window or Colab\n",
        "2. Save to local drive using good naming conventions: the file name extension has to be `.py`\n",
        "3. Edit it, add comments \n",
        "4. Check syntax errors \n",
        "5. Run the program \n",
        "6. Save the file to Github!"
      ]
    },
    {
      "cell_type": "code",
      "metadata": {
        "id": "C5mzG1fXKKjw"
      },
      "source": [
        "pi = 3.14\n",
        "r = 2.0 \n",
        "area = pi*(r**2)\n",
        "perim = 2.0*pi*r\n",
        "print(\"Given radius:\", r)\n",
        "print(\"Area is:\", area)\n",
        "print(\"Perimeter is:\", perim)\n"
      ],
      "execution_count": null,
      "outputs": []
    },
    {
      "cell_type": "markdown",
      "metadata": {
        "id": "QHxI0KvWLRWB"
      },
      "source": [
        "So now we have a good working script, but we want to be sure we document our script. We can do this by adding comments using the `#` symbol for \"inline comments\" or putting a \"comment block\" at the top of our could using:\n",
        "` ``` `. "
      ]
    },
    {
      "cell_type": "code",
      "metadata": {
        "id": "pALFrjcpMHTV"
      },
      "source": [
        "'''\n",
        "This is a comment block. \n",
        "Generally used at the top of a script to explain important info. \n",
        "Inputs / outputs, dependencies, etc.\n",
        "'''\n",
        "\n",
        "my_code = \"Has a comment block.\"\n",
        "print(my_code)\n"
      ],
      "execution_count": null,
      "outputs": []
    },
    {
      "cell_type": "markdown",
      "metadata": {
        "id": "-EpnTO3CM1wm"
      },
      "source": [
        "Here's an ideal way to comment the script we wrote: "
      ]
    },
    {
      "cell_type": "code",
      "metadata": {
        "id": "QImrPsBCNMsL"
      },
      "source": [
        "\n",
        "'''\n",
        "Author: Shadrock the Pugnacious\n",
        "Created: 26 August 2020\n",
        "Note: this is to show how comments work.\n",
        "'''\n",
        "\n",
        "# This section creates variables.\n",
        "pi = 3.14\n",
        "r = 2.0\n",
        "\n",
        "# This line calculates area\n",
        "area = pi *(r**2) \n",
        "\n",
        "# This line calculates perimeter\n",
        "perim = 2.0*pi*r\n",
        "\n",
        "# These lines outputs the results\n",
        "print(\"Given r: \",r)\n",
        "print(\"Area is: \",area)\n",
        "print(\"Perimeter is:\", perim)\n"
      ],
      "execution_count": null,
      "outputs": []
    },
    {
      "cell_type": "markdown",
      "metadata": {
        "id": "cy6vC6dzNfAP"
      },
      "source": [
        "**People will judge your code on how it is documented and commented on.** Sometimes, comments in code can lead to unexpected places... the CIA once recruited coders by leaving instructions within the code of their website! \n",
        "\n",
        "Now let's share our script. This isn't required since you're already going through a process to do this (the Github + Colab assignment) but if you want to walk through creating a new repository and saving your script to Github, it'll be good practice.\n",
        "\n",
        "Open [Github](https://github.com/). \n",
        "1. Create a repo (initialize with a `README`) and upload your script. \n",
        "2. Name your repo \"302_Test_repo\"\n",
        "3. Change the `README` file. "
      ]
    },
    {
      "cell_type": "markdown",
      "metadata": {
        "id": "3MyPd89POjCX"
      },
      "source": [
        "### Using Markdown\n",
        "\n",
        "\n",
        "All your Github repositories (or \"repos\") should have a brief description of the lab and the files in that repo. \n",
        "See https://www.makeareadme.com for great examples of how to structure and format a README. \n",
        "Want to add images to repos? See this repo for instructions https://github.com/Shadrock/code-snippets \n",
        "\n",
        "Want to see an example of a really nice README? Check out https://github.com/evhart/crees\n"
      ]
    }
  ]
}