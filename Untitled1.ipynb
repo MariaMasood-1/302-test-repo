{
  "nbformat": 4,
  "nbformat_minor": 0,
  "metadata": {
    "colab": {
      "name": "Untitled1.ipynb",
      "provenance": [],
      "authorship_tag": "ABX9TyMuKFoXIOd2IAof9wZ0yjyf",
      "include_colab_link": true
    },
    "kernelspec": {
      "name": "python3",
      "display_name": "Python 3"
    }
  },
  "cells": [
    {
      "cell_type": "markdown",
      "metadata": {
        "id": "view-in-github",
        "colab_type": "text"
      },
      "source": [
        "<a href=\"https://colab.research.google.com/github/MariaMasood-1/302-test-repo/blob/main/Untitled1.ipynb\" target=\"_parent\"><img src=\"https://colab.research.google.com/assets/colab-badge.svg\" alt=\"Open In Colab\"/></a>"
      ]
    },
    {
      "cell_type": "code",
      "metadata": {
        "colab": {
          "base_uri": "https://localhost:8080/"
        },
        "id": "BOhZL4vO91JT",
        "outputId": "c6736773-97f3-4c28-8f32-bff29a579bf4"
      },
      "source": [
        "pi= 3.14\n",
        "r= 2.0\n",
        "area = pi * (r**2)\n",
        "perim = 2.0*pi*r\n",
        "print(\"Given r:\", r)\n",
        "print(\"Area is\", area)\n",
        "print(\"perimeter is\", perim)"
      ],
      "execution_count": 1,
      "outputs": [
        {
          "output_type": "stream",
          "text": [
            "Given r: 2.0\n",
            "Area is 12.56\n",
            "perimeter is 12.56\n"
          ],
          "name": "stdout"
        }
      ]
    }
  ]
}